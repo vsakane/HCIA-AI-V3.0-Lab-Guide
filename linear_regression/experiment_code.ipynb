#Data preparation
'''
10 data were randomly set, and the data were in a linear relationship.
The data is converted to array format so that it can be computed directly when
multiplication and addition are used.
'''

#Import the required modules, numpy for calculation, and Matplotlib for drawing
import numpy as np
import matplotlib.pyplot as plt
#This code is for jupyter Notebook only
#%matplotlib inline
# define data, and change list to array
x = [3,21,22,34,54,34,55,67,89,99]
x = np.array(x)
y = [1,10,14,34,44,36,22,67,79,90]
y = np.array(y)
#Show the effect of a scatter plot
plt.scatter(x,y)